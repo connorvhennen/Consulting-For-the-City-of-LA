{
 "cells": [
  {
   "cell_type": "code",
   "execution_count": 2,
   "metadata": {},
   "outputs": [
    {
     "name": "stdout",
     "output_type": "stream",
     "text": [
      "Visit interactive maps at:\n",
      "https://plot.ly/create/?fid=connorvhennen:16 and\n",
      "https://plot.ly/create/?fid=connorvhennen:18\n"
     ]
    }
   ],
   "source": [
    "print \"Visit interactive maps at:\\nhttps://plot.ly/create/?fid=connorvhennen:16 and\\nhttps://plot.ly/create/?fid=connorvhennen:18\""
   ]
  }
 ],
 "metadata": {
  "kernelspec": {
   "display_name": "Python 2",
   "language": "python",
   "name": "python2"
  },
  "language_info": {
   "codemirror_mode": {
    "name": "ipython",
    "version": 2
   },
   "file_extension": ".py",
   "mimetype": "text/x-python",
   "name": "python",
   "nbconvert_exporter": "python",
   "pygments_lexer": "ipython2",
   "version": "2.7.14"
  }
 },
 "nbformat": 4,
 "nbformat_minor": 2
}
