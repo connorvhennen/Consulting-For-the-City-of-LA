{
 "cells": [
  {
   "cell_type": "code",
   "execution_count": 56,
   "metadata": {},
   "outputs": [],
   "source": [
    "import plotly.plotly as py\n",
    "from plotly.graph_objs import *\n",
    "import pandas as pd\n",
    "import os\n",
    "os.chdir('/Users/connorvhennen/Desktop/Classes W18/Stat 141SL/Project')\n",
    "\n",
    "newHousing = pd.read_csv('newhousing.csv')\n",
    "rehabHousing = pd.read_csv('rehabhousing.csv')"
   ]
  },
  {
   "cell_type": "code",
   "execution_count": 57,
   "metadata": {},
   "outputs": [],
   "source": [
    "rehabHousing.dropna(subset=['latitude'])\n",
    "newHousing.dropna(subset=['latitude'])\n",
    "rehabHousing = rehabHousing.reset_index(drop=True)\n",
    "newHousing = newHousing.reset_index(drop=True)"
   ]
  },
  {
   "cell_type": "code",
   "execution_count": 58,
   "metadata": {},
   "outputs": [],
   "source": [
    "newHousingPerms = set(newHousing['Permit.Sub.Type'])\n",
    "rehabHousingPerms = set(rehabHousing['Permit.Sub.Type'])"
   ]
  },
  {
   "cell_type": "code",
   "execution_count": 59,
   "metadata": {},
   "outputs": [
    {
     "data": {
      "text/plain": [
       "{'1 or 2 Family Dwelling', 'Apartment'}"
      ]
     },
     "execution_count": 59,
     "metadata": {},
     "output_type": "execute_result"
    }
   ],
   "source": [
    "rehabHousingPerms"
   ]
  },
  {
   "cell_type": "code",
   "execution_count": 60,
   "metadata": {},
   "outputs": [
    {
     "name": "stderr",
     "output_type": "stream",
     "text": [
      "/Users/connorvhennen/anaconda2/lib/python2.7/site-packages/ipykernel_launcher.py:5: DeprecationWarning:\n",
      "\n",
      "\n",
      ".ix is deprecated. Please use\n",
      ".loc for label based indexing or\n",
      ".iloc for positional indexing\n",
      "\n",
      "See the documentation here:\n",
      "http://pandas.pydata.org/pandas-docs/stable/indexing.html#ix-indexer-is-deprecated\n",
      "\n",
      "/Users/connorvhennen/anaconda2/lib/python2.7/site-packages/ipykernel_launcher.py:13: DeprecationWarning:\n",
      "\n",
      "\n",
      ".ix is deprecated. Please use\n",
      ".loc for label based indexing or\n",
      ".iloc for positional indexing\n",
      "\n",
      "See the documentation here:\n",
      "http://pandas.pydata.org/pandas-docs/stable/indexing.html#ix-indexer-is-deprecated\n",
      "\n"
     ]
    }
   ],
   "source": [
    "newFamDwell = []\n",
    "newApt = []\n",
    "\n",
    "for i in range(len(list(newHousing['Permit.Sub.Type']))):\n",
    "    if newHousing.ix[i,'Permit.Sub.Type'] == '1 or 2 Family Dwelling':\n",
    "        newFamDwell.append(i)\n",
    "    if newHousing.ix[i,'Permit.Sub.Type'] == 'Apartment':\n",
    "        newApt.append(i)\n",
    "\n",
    "rehabFamDwell = []\n",
    "rehabApt = []\n",
    "for i in range(len(list(rehabHousing['Permit.Sub.Type']))):\n",
    "    if rehabHousing.ix[i,'Permit.Sub.Type'] == '1 or 2 Family Dwelling':\n",
    "        rehabFamDwell.append(i)\n",
    "    if rehabHousing.ix[i,'Permit.Sub.Type'] == 'Apartment':\n",
    "        rehabApt.append(i)\n",
    "    "
   ]
  },
  {
   "cell_type": "code",
   "execution_count": 61,
   "metadata": {},
   "outputs": [],
   "source": [
    "newFamHousing = newHousing.drop(newHousing.index[newApt])\n",
    "newAptHousing = newHousing.drop(newHousing.index[newFamDwell])\n",
    "\n",
    "rehabFamHousing = rehabHousing.drop(rehabHousing.index[rehabApt])\n",
    "rehabAptHousing = rehabHousing.drop(rehabHousing.index[rehabFamDwell])"
   ]
  },
  {
   "cell_type": "code",
   "execution_count": 62,
   "metadata": {},
   "outputs": [
    {
     "name": "stdout",
     "output_type": "stream",
     "text": [
      "27496\n",
      "1221\n",
      "106044\n",
      "15243\n"
     ]
    }
   ],
   "source": [
    "print rehabAptHousing.shape[0]\n",
    "print newAptHousing.shape[0]\n",
    "print rehabFamHousing.shape[0]\n",
    "print newFamHousing.shape[0]"
   ]
  },
  {
   "cell_type": "code",
   "execution_count": 63,
   "metadata": {},
   "outputs": [
    {
     "data": {
      "text/plain": [
       "3"
      ]
     },
     "execution_count": 63,
     "metadata": {},
     "output_type": "execute_result"
    }
   ],
   "source": [
    "106044/27496"
   ]
  },
  {
   "cell_type": "code",
   "execution_count": 64,
   "metadata": {},
   "outputs": [],
   "source": [
    "import statistics as stats\n",
    "l1 = list(rehabAptHousing['longitude'])\n",
    "l2 = list(rehabFamHousing['longitude'])\n",
    "joinedList = l1+ l2\n",
    "medianLongRehab = stats.median(joinedList)\n",
    "\n",
    "l1 = list(rehabAptHousing['latitude'])\n",
    "l2 = list(rehabFamHousing['latitude'])\n",
    "joinedList = l1+ l2\n",
    "medianLatRehab = stats.median(joinedList)\n",
    "\n",
    "\n",
    "l1 = list(newAptHousing['longitude'])\n",
    "l2 = list(newFamHousing['longitude'])\n",
    "joinedList = l1+ l2\n",
    "medianLongNew = stats.median(joinedList)\n",
    "\n",
    "l1 = list(newAptHousing['latitude'])\n",
    "l2 = list(newFamHousing['latitude'])\n",
    "joinedList = l1+ l2\n",
    "medianLatNew = stats.median(joinedList)\n"
   ]
  },
  {
   "cell_type": "code",
   "execution_count": 65,
   "metadata": {},
   "outputs": [
    {
     "data": {
      "text/html": [
       "<iframe id=\"igraph\" scrolling=\"no\" style=\"border:none;\" seamless=\"seamless\" src=\"https://plot.ly/~connorvhennen/16.embed\" height=\"900px\" width=\"800px\"></iframe>"
      ],
      "text/plain": [
       "<plotly.tools.PlotlyDisplay object>"
      ]
     },
     "execution_count": 65,
     "metadata": {},
     "output_type": "execute_result"
    }
   ],
   "source": [
    "mapbox_access_token ='pk.eyJ1IjoiY29ubm9ydmhlbm5lbiIsImEiOiJjamYyaWE0MnQwMmplMnFuODB6dnFhMWJuIn0.GJzAt8Tj5YLY3GlxKuhK3Q'\n",
    "\n",
    "newFamHousing['Text'] = newFamHousing['Permit.Sub.Type'] + '<br>Zip Code: ' + newFamHousing['Zip.Code'].astype('str')\n",
    "newAptHousing['Text'] = newAptHousing['Permit.Sub.Type'] + '<br>Zip Code: ' + newAptHousing['Zip.Code'].astype('str')\n",
    "\n",
    "data1 = Data([\n",
    "    Scattermapbox(\n",
    "        lat=newFamHousing['latitude'],\n",
    "        lon=newFamHousing['longitude'],\n",
    "        mode='markers',\n",
    "        marker=Marker(\n",
    "            size=5,\n",
    "            color = 'rgb(0, 177, 172)'\n",
    "        ),\n",
    "        name = 'New 1 or 2 Family Dwelling',\n",
    "\n",
    "        text=newFamHousing['Text'],\n",
    "    ),\n",
    "    Scattermapbox(\n",
    "        lat=newAptHousing['latitude'],\n",
    "        lon=newAptHousing['longitude'],\n",
    "        mode='markers',\n",
    "        marker=Marker(\n",
    "            size=5,\n",
    "            color = 'rgb(242, 0, 172)'\n",
    "        ),\n",
    "        name = 'New Apartment',\n",
    "\n",
    "        text=newAptHousing['Text'],\n",
    "        \n",
    "    )\n",
    "    \n",
    "])\n",
    "layout1 = Layout(\n",
    "    width = 800,\n",
    "    height = 900,\n",
    "    hovermode='closest',\n",
    "    showlegend=True,\n",
    "    mapbox=dict(\n",
    "\n",
    "        accesstoken=mapbox_access_token,\n",
    "        bearing=0,\n",
    "        center=dict(\n",
    "            lat=medianLatNew,\n",
    "            lon = medianLongNew\n",
    "        ),\n",
    "        pitch=0,\n",
    "        zoom=9,\n",
    "        style = 'light'\n",
    "    ),\n",
    ")\n",
    "\n",
    "fig = dict(data=data1, layout=layout1)\n",
    "py.iplot(fig, filename='New Housing Construction Subpermit Type Distribution')"
   ]
  },
  {
   "cell_type": "code",
   "execution_count": 66,
   "metadata": {},
   "outputs": [],
   "source": [
    "import random\n",
    "#Scattermapbox is really lame in terms of how many data points it can take on. I have no idea why plotly puts it up\n",
    "random.seed(1)\n",
    "rehabFamHousing = rehabFamHousing.reset_index(drop = True)\n",
    "randInds = random.sample(range(0,len(rehabFamHousing)),int(len(rehabFamHousing)*.85))\n",
    "rehabFamHousing = rehabFamHousing.drop(randInds)\n",
    "rehabFamHousing = rehabFamHousing.reset_index(drop = True)\n",
    "\n",
    "rehabAptHousing = rehabAptHousing.reset_index(drop = True)\n",
    "randInds = random.sample(range(0,len(rehabAptHousing)),int(len(rehabAptHousing)*.85))\n",
    "rehabAptHousing = rehabAptHousing.drop(randInds)\n",
    "rehabAptHousing = rehabAptHousing.reset_index(drop = True)"
   ]
  },
  {
   "cell_type": "code",
   "execution_count": 67,
   "metadata": {},
   "outputs": [
    {
     "data": {
      "text/plain": [
       "15907"
      ]
     },
     "execution_count": 67,
     "metadata": {},
     "output_type": "execute_result"
    }
   ],
   "source": [
    "len(rehabFamHousing)"
   ]
  },
  {
   "cell_type": "code",
   "execution_count": 70,
   "metadata": {},
   "outputs": [
    {
     "data": {
      "text/html": [
       "<iframe id=\"igraph\" scrolling=\"no\" style=\"border:none;\" seamless=\"seamless\" src=\"https://plot.ly/~connorvhennen/18.embed\" height=\"900px\" width=\"800px\"></iframe>"
      ],
      "text/plain": [
       "<plotly.tools.PlotlyDisplay object>"
      ]
     },
     "execution_count": 70,
     "metadata": {},
     "output_type": "execute_result"
    }
   ],
   "source": [
    "#mapbox_access_token ='pk.eyJ1IjoiY29ubm9ydmhlbm5lbiIsImEiOiJjamYyaWE0MnQwMmplMnFuODB6dnFhMWJuIn0.GJzAt8Tj5YLY3GlxKuhK3Q'\n",
    "mapbox_access_token ='pk.eyJ1IjoiY29ubm9ydmhlbm5lbiIsImEiOiJjamYyaTl4MG0xaHV0MnhvaG1wanN0MmdoIn0.5GTLmy6jdxzNN5JBJC8XYw'\n",
    "\n",
    "rehabFamHousing['Text'] = rehabFamHousing['Permit.Sub.Type'] + '<br>Zip Code: ' + rehabFamHousing['Zip.Code'].astype('str')\n",
    "rehabAptHousing['Text'] = rehabAptHousing['Permit.Sub.Type'] + '<br>Zip Code: ' + rehabAptHousing['Zip.Code'].astype('str')\n",
    "\n",
    "dataRehabData = Data([\n",
    "    Scattermapbox(\n",
    "        lat=rehabFamHousing['latitude'],\n",
    "        lon=rehabFamHousing['longitude'],\n",
    "        mode='markers',\n",
    "        marker=Marker(\n",
    "            size=5,\n",
    "            opacity = .4,\n",
    "        ),\n",
    "        name = 'Rehabilitated 1 or 2 Family Dwelling',\n",
    "        text=rehabFamHousing['Text'],\n",
    "    ),\n",
    "    Scattermapbox(\n",
    "        lat=rehabAptHousing['latitude'],\n",
    "        lon=rehabAptHousing['longitude'],\n",
    "        mode='markers',\n",
    "        marker=Marker(\n",
    "            size=5,\n",
    "            color = 'rgb(242, 0, 172)',\n",
    "            opacity = .4\n",
    "        ),\n",
    "        name = 'Rehabilitated Apartment',\n",
    "        text=rehabAptHousing['Text'],\n",
    "    )\n",
    "])\n",
    "layout2 = Layout(\n",
    "    width = 800,\n",
    "    height = 900,\n",
    "    hovermode='closest',\n",
    "    showlegend=True,\n",
    "    mapbox=dict(\n",
    "\n",
    "        accesstoken=mapbox_access_token,\n",
    "        bearing=0,\n",
    "        center=dict(\n",
    "            lat=medianLatRehab,\n",
    "            lon = medianLongRehab\n",
    "        ),\n",
    "        pitch=0,\n",
    "        zoom=8.5,\n",
    "        style = 'light'\n",
    "    ),\n",
    ")  \n",
    "\n",
    "fig7 = dict(data=dataRehabData, layout=layout2)\n",
    "py.iplot(fig7,filename='Rehab Housing Construction Subpermit Type Distribution')\n",
    "#py.image.save_as(fig, filename='rehabPermitDist.png')"
   ]
  }
 ],
 "metadata": {
  "kernelspec": {
   "display_name": "Python 2",
   "language": "python",
   "name": "python2"
  },
  "language_info": {
   "codemirror_mode": {
    "name": "ipython",
    "version": 2
   },
   "file_extension": ".py",
   "mimetype": "text/x-python",
   "name": "python",
   "nbconvert_exporter": "python",
   "pygments_lexer": "ipython2",
   "version": "2.7.14"
  }
 },
 "nbformat": 4,
 "nbformat_minor": 2
}
